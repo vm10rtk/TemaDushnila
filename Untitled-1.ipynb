{
 "cells": [
  {
   "cell_type": "code",
   "execution_count": 1,
   "metadata": {},
   "outputs": [
    {
     "name": "stdout",
     "output_type": "stream",
     "text": [
      "1 2 4 7 8 14 28 56 "
     ]
    }
   ],
   "source": [
    "a = int(input(\"enter number : \"))\n",
    "for i in range(1,a+1):\n",
    "    if a%i==0:\n",
    "        print(i,end =\" \")"
   ]
  },
  {
   "cell_type": "code",
   "execution_count": 2,
   "metadata": {},
   "outputs": [
    {
     "name": "stdout",
     "output_type": "stream",
     "text": [
      "0\n",
      "mbfsavf\n"
     ]
    }
   ],
   "source": [
    "count = 0\n",
    "\n",
    "a = str(input(\"Введите строку: \"))\n",
    "str1 = ''\n",
    "\n",
    "list = a.split(' ')\n",
    "ma = len(list[0])\n",
    "for f in range(0,len(a.split(' '))):\n",
    "    d = len(list[f])\n",
    "    if d >= ma:\n",
    "        ma = d\n",
    "        str1 = list[f]\n",
    "    if d%2 ==0:\n",
    "        count+=1\n",
    "\n",
    "print(count)\n",
    "print(str1)\n",
    "  \n",
    "   \n",
    "\n",
    "    \n",
    "\n",
    "      \n",
    "\n",
    "      "
   ]
  },
  {
   "cell_type": "code",
   "execution_count": 3,
   "metadata": {},
   "outputs": [
    {
     "name": "stdout",
     "output_type": "stream",
     "text": [
      "8\n"
     ]
    }
   ],
   "source": [
    "\n",
    "list = [1,8,9]\n",
    "for i in range(1,len(list)):\n",
    "    if list[i]>= list[0] and list[i]%2==0 :\n",
    "        list[0]=list[i]\n",
    "        print(list[0])\n",
    "        break\n",
    "    else:\n",
    "        print(list[0])\n",
    "        break\n",
    "\n"
   ]
  },
  {
   "cell_type": "code",
   "execution_count": 4,
   "metadata": {},
   "outputs": [
    {
     "name": "stdout",
     "output_type": "stream",
     "text": [
      "['f', 'd', 'a']\n"
     ]
    }
   ],
   "source": [
    "my_dict = {'a':500,'b':5874,'c':560,'d':400,'e':5874,'f':20}\n",
    "keys = sorted(my_dict, key=my_dict.get, reverse=False)[:3]\n",
    "print(keys)\n"
   ]
  },
  {
   "cell_type": "code",
   "execution_count": null,
   "metadata": {},
   "outputs": [],
   "source": [
    "\n",
    "while True:\n",
    "       print('     MENU')\n",
    "       print('1.view description')\n",
    "       print('2.view price')\n",
    "       print('3.view quantity')\n",
    "       print('4.view all info')\n",
    "       print('5.store')\n",
    "       print('     quit')\n",
    "\n",
    "       my_dict = {'GR750': ('gold',3600,10), 'GR1000':('gold',6000,5),'SR585':('silver',1850,25)}\n",
    "       a = int(input('enter menu point:'))\n",
    "       if a ==1:\n",
    "              print('1.view description')\n",
    "              print( my_dict.get(str(input('enter product name')))[0])\n",
    "       if a == 2:\n",
    "              print('2.view price')\n",
    "              print( my_dict.get(str(input('enter product name')))[1])\n",
    "       if a ==3:\n",
    "              print('3.view quantity')\n",
    "              print( my_dict.get(str(input('enter product name')))[2])\n",
    "       if a == 4:\n",
    "              print('4.view all info')\n",
    "              print( my_dict.get(str(input('enter product name'))))\n",
    "       if a==5:\n",
    "              print('5.store')\n",
    "              print('enter the product you want to purchase and its quantity')\n",
    "              st=str(input('enter the name of product you want to purchase'))\n",
    "              my_dict.get(st)[0]\n",
    "              b=int(input('enter the equantity'))\n",
    "              a = my_dict.get(st)[2]\n",
    "              d=my_dict.get(st)[1]\n",
    "              print('quantity of products left:',a-b)\n",
    "              print('total price:',b*d)\n",
    "       if a==6:\n",
    "              break\n",
    "\n",
    "\n",
    "\n"
   ]
  },
  {
   "cell_type": "code",
   "execution_count": 7,
   "metadata": {},
   "outputs": [
    {
     "name": "stdout",
     "output_type": "stream",
     "text": [
      "Список: [1, 3, 4, 4, 4, 5, 6, 6, 7, 78, 8, 8, 8]\n",
      "Кортеж: (1, 3, 4, 4, 4, 5, 6, 6, 7, 78, 8, 8, 8)\n"
     ]
    }
   ],
   "source": [
    "values = input('Введите числа через запятую: ')\n",
    "ints_as_strings = values.split(',')\n",
    "ints = map(int, ints_as_strings)\n",
    "lst = list(ints)\n",
    "tup = tuple(lst)\n",
    "print('Список:', lst)\n",
    "print('Кортеж:', tup)"
   ]
  }
 ],
 "metadata": {
  "kernelspec": {
   "display_name": "Python 3.8.9 64-bit",
   "language": "python",
   "name": "python3"
  },
  "language_info": {
   "codemirror_mode": {
    "name": "ipython",
    "version": 3
   },
   "file_extension": ".py",
   "mimetype": "text/x-python",
   "name": "python",
   "nbconvert_exporter": "python",
   "pygments_lexer": "ipython3",
   "version": "3.8.9"
  },
  "orig_nbformat": 4,
  "vscode": {
   "interpreter": {
    "hash": "31f2aee4e71d21fbe5cf8b01ff0e069b9275f58929596ceb00d14d90e3e16cd6"
   }
  }
 },
 "nbformat": 4,
 "nbformat_minor": 2
}
